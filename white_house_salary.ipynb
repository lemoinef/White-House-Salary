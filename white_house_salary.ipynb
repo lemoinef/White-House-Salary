{
 "cells": [
  {
   "cell_type": "markdown",
   "metadata": {},
   "source": [
    "# White House Salary Data From 2015"
   ]
  },
  {
   "cell_type": "markdown",
   "metadata": {},
   "source": [
    "In this project, we explore the White House payroll. There are only a few columns in the dataframe and the exploration is simple. This is part of Dataquest.io guided projects, it is the first one and it shows. "
   ]
  },
  {
   "cell_type": "markdown",
   "metadata": {},
   "source": [
    "## Exploring The Data"
   ]
  },
  {
   "cell_type": "markdown",
   "metadata": {},
   "source": [
    "We load the *2015_white_house.csv* file, then print the shape of the resulting Pandas Dataframe.\n",
    "\n",
    "The *2015_white_house.csv* file contains data on White House employees in 2015, and their salaries. \n",
    "\n",
    "Here are the columns:\n",
    "\n",
    "- Name -- the name of the employee.\n",
    "- Status -- whether the employee was a White House employee, or detailed to the White House.\n",
    "- Salary -- the employee salary, in USD.\n",
    "- Pay Basis -- the time period the salary is expressed over.\n",
    "- Position Title -- the title of the employee."
   ]
  },
  {
   "cell_type": "code",
   "execution_count": 39,
   "metadata": {
    "collapsed": false
   },
   "outputs": [
    {
     "name": "stdout",
     "output_type": "stream",
     "text": [
      "(474, 5)\n"
     ]
    }
   ],
   "source": [
    "import pandas as pd\n",
    "white_house = pd.read_csv(\"2015_white_house.csv\")\n",
    "print(white_house.shape)"
   ]
  },
  {
   "cell_type": "markdown",
   "metadata": {},
   "source": [
    "Print the first row of the White House Dataframe using print(white_house.iloc[0])."
   ]
  },
  {
   "cell_type": "code",
   "execution_count": 40,
   "metadata": {
    "collapsed": false,
    "scrolled": true
   },
   "outputs": [
    {
     "name": "stdout",
     "output_type": "stream",
     "text": [
      "Name              Abdullah, Hasan A.\n",
      "Status                      Detailee\n",
      "Salary                        105960\n",
      "Pay Basis                  Per Annum\n",
      "Position Title        POLICY ADVISOR\n",
      "Name: 0, dtype: object\n"
     ]
    }
   ],
   "source": [
    "# Print the first row of the White House Dataframe\n",
    "print(white_house.iloc[0])"
   ]
  },
  {
   "cell_type": "code",
   "execution_count": 41,
   "metadata": {
    "collapsed": false
   },
   "outputs": [
    {
     "name": "stdout",
     "output_type": "stream",
     "text": [
      "Name              Dessources, Kalisha \n",
      "Status                        Employee\n",
      "Salary                           42000\n",
      "Pay Basis                    Per Annum\n",
      "Position Title         STAFF ASSISTANT\n",
      "Name: 100, dtype: object\n"
     ]
    }
   ],
   "source": [
    "# Print the 99th row of the White House Dataframe\n",
    "print(white_house.iloc[100])"
   ]
  },
  {
   "cell_type": "code",
   "execution_count": 42,
   "metadata": {
    "collapsed": false
   },
   "outputs": [
    {
     "name": "stdout",
     "output_type": "stream",
     "text": [
      "Name                Oakar, Catherine R.\n",
      "Status                         Detailee\n",
      "Salary                           130453\n",
      "Pay Basis                     Per Annum\n",
      "Position Title    SENIOR POLICY ADVISOR\n",
      "Name: 318, dtype: object\n"
     ]
    }
   ],
   "source": [
    "# Print the 317th row of the White House Dataframe\n",
    "print(white_house.iloc[318])"
   ]
  },
  {
   "cell_type": "markdown",
   "metadata": {},
   "source": [
    "Display the white_house Dataframe."
   ]
  },
  {
   "cell_type": "code",
   "execution_count": 43,
   "metadata": {
    "collapsed": false
   },
   "outputs": [
    {
     "data": {
      "text/html": [
       "<div>\n",
       "<table border=\"1\" class=\"dataframe\">\n",
       "  <thead>\n",
       "    <tr style=\"text-align: right;\">\n",
       "      <th></th>\n",
       "      <th>Name</th>\n",
       "      <th>Status</th>\n",
       "      <th>Salary</th>\n",
       "      <th>Pay Basis</th>\n",
       "      <th>Position Title</th>\n",
       "    </tr>\n",
       "  </thead>\n",
       "  <tbody>\n",
       "    <tr>\n",
       "      <th>0</th>\n",
       "      <td>Abdullah, Hasan A.</td>\n",
       "      <td>Detailee</td>\n",
       "      <td>105960</td>\n",
       "      <td>Per Annum</td>\n",
       "      <td>POLICY ADVISOR</td>\n",
       "    </tr>\n",
       "    <tr>\n",
       "      <th>1</th>\n",
       "      <td>Abraham, Sabey M.</td>\n",
       "      <td>Employee</td>\n",
       "      <td>55000</td>\n",
       "      <td>Per Annum</td>\n",
       "      <td>ENERGY AND ENVIRONMENT DIRECTOR FOR PRESIDENTI...</td>\n",
       "    </tr>\n",
       "    <tr>\n",
       "      <th>2</th>\n",
       "      <td>Abraham, Yohannes A.</td>\n",
       "      <td>Employee</td>\n",
       "      <td>121200</td>\n",
       "      <td>Per Annum</td>\n",
       "      <td>SPECIAL ASSISTANT TO THE PRESIDENT AND CHIEF O...</td>\n",
       "    </tr>\n",
       "    <tr>\n",
       "      <th>3</th>\n",
       "      <td>Abramson, Jerry E.</td>\n",
       "      <td>Employee</td>\n",
       "      <td>155035</td>\n",
       "      <td>Per Annum</td>\n",
       "      <td>DEPUTY ASSISTANT TO THE PRESIDENT AND DIRECTOR...</td>\n",
       "    </tr>\n",
       "    <tr>\n",
       "      <th>4</th>\n",
       "      <td>Adler, Caroline E.</td>\n",
       "      <td>Employee</td>\n",
       "      <td>114000</td>\n",
       "      <td>Per Annum</td>\n",
       "      <td>SPECIAL ASSISTANT TO THE PRESIDENT AND DIRECTO...</td>\n",
       "    </tr>\n",
       "    <tr>\n",
       "      <th>5</th>\n",
       "      <td>Aiyer, Vikrum D.</td>\n",
       "      <td>Detailee</td>\n",
       "      <td>134662</td>\n",
       "      <td>Per Annum</td>\n",
       "      <td>SENIOR POLICY ADVISOR</td>\n",
       "    </tr>\n",
       "    <tr>\n",
       "      <th>6</th>\n",
       "      <td>Alcantara, Elias</td>\n",
       "      <td>Employee</td>\n",
       "      <td>65650</td>\n",
       "      <td>Per Annum</td>\n",
       "      <td>ASSOCIATE DIRECTOR OF INTERGOVERNMENTAL AFFAIRS</td>\n",
       "    </tr>\n",
       "    <tr>\n",
       "      <th>7</th>\n",
       "      <td>Ali, Mohammed I.</td>\n",
       "      <td>Employee</td>\n",
       "      <td>42000</td>\n",
       "      <td>Per Annum</td>\n",
       "      <td>STAFF ASSISTANT</td>\n",
       "    </tr>\n",
       "    <tr>\n",
       "      <th>8</th>\n",
       "      <td>Allen, Angelica P.</td>\n",
       "      <td>Employee</td>\n",
       "      <td>50000</td>\n",
       "      <td>Per Annum</td>\n",
       "      <td>SPECIAL ASSISTANT TO THE DIRECTOR OF THE OFFIC...</td>\n",
       "    </tr>\n",
       "    <tr>\n",
       "      <th>9</th>\n",
       "      <td>Allen, Elizabeth M.</td>\n",
       "      <td>Employee</td>\n",
       "      <td>103000</td>\n",
       "      <td>Per Annum</td>\n",
       "      <td>SPECIAL ASSISTANT TO THE PRESIDENT FOR MESSAGE...</td>\n",
       "    </tr>\n",
       "    <tr>\n",
       "      <th>10</th>\n",
       "      <td>Allen, Jessica L.</td>\n",
       "      <td>Employee</td>\n",
       "      <td>42844</td>\n",
       "      <td>Per Annum</td>\n",
       "      <td>PRESS ASSISTANT</td>\n",
       "    </tr>\n",
       "    <tr>\n",
       "      <th>11</th>\n",
       "      <td>Allison, Ashley R.</td>\n",
       "      <td>Employee</td>\n",
       "      <td>97000</td>\n",
       "      <td>Per Annum</td>\n",
       "      <td>DEPUTY DIRECTOR OF PUBLIC ENGAGEMENT</td>\n",
       "    </tr>\n",
       "    <tr>\n",
       "      <th>12</th>\n",
       "      <td>Amendolare, Vincent C.</td>\n",
       "      <td>Employee</td>\n",
       "      <td>42420</td>\n",
       "      <td>Per Annum</td>\n",
       "      <td>ANALYST</td>\n",
       "    </tr>\n",
       "    <tr>\n",
       "      <th>13</th>\n",
       "      <td>Amuluru, Uma M.</td>\n",
       "      <td>Detailee</td>\n",
       "      <td>116804</td>\n",
       "      <td>Per Annum</td>\n",
       "      <td>ASSOCIATE COUNSEL</td>\n",
       "    </tr>\n",
       "    <tr>\n",
       "      <th>14</th>\n",
       "      <td>Anderson, Amanda D.</td>\n",
       "      <td>Employee</td>\n",
       "      <td>126250</td>\n",
       "      <td>Per Annum</td>\n",
       "      <td>SPECIAL ASSISTANT TO THE PRESIDENT AND HOUSE L...</td>\n",
       "    </tr>\n",
       "    <tr>\n",
       "      <th>15</th>\n",
       "      <td>Anderson, Charles D.</td>\n",
       "      <td>Employee</td>\n",
       "      <td>101000</td>\n",
       "      <td>Per Annum</td>\n",
       "      <td>SENIOR ADVISOR FOR THE NATIONAL ECONOMIC COUNCIL</td>\n",
       "    </tr>\n",
       "    <tr>\n",
       "      <th>16</th>\n",
       "      <td>Aniskoff, Paulette L.</td>\n",
       "      <td>Employee</td>\n",
       "      <td>155035</td>\n",
       "      <td>Per Annum</td>\n",
       "      <td>DEPUTY ASSISTANT TO THE PRESIDENT AND DIRECTOR...</td>\n",
       "    </tr>\n",
       "    <tr>\n",
       "      <th>17</th>\n",
       "      <td>Ashton, Nathaniel R.</td>\n",
       "      <td>Employee</td>\n",
       "      <td>42000</td>\n",
       "      <td>Per Annum</td>\n",
       "      <td>STAFF ASSISTANT</td>\n",
       "    </tr>\n",
       "    <tr>\n",
       "      <th>18</th>\n",
       "      <td>Austin, Jr., Roy L.</td>\n",
       "      <td>Employee</td>\n",
       "      <td>160085</td>\n",
       "      <td>Per Annum</td>\n",
       "      <td>DEPUTY ASSISTANT TO THE PRESIDENT FOR THE OFFI...</td>\n",
       "    </tr>\n",
       "    <tr>\n",
       "      <th>19</th>\n",
       "      <td>Axios, Ashleigh T.</td>\n",
       "      <td>Employee</td>\n",
       "      <td>73225</td>\n",
       "      <td>Per Annum</td>\n",
       "      <td>DIGITAL CREATIVE DIRECTOR</td>\n",
       "    </tr>\n",
       "    <tr>\n",
       "      <th>20</th>\n",
       "      <td>Babajide, Ayotunde T.</td>\n",
       "      <td>Detailee</td>\n",
       "      <td>114480</td>\n",
       "      <td>Per Annum</td>\n",
       "      <td>SENIOR POLICY ADVISOR</td>\n",
       "    </tr>\n",
       "    <tr>\n",
       "      <th>21</th>\n",
       "      <td>Bae, Yena</td>\n",
       "      <td>Employee</td>\n",
       "      <td>44000</td>\n",
       "      <td>Per Annum</td>\n",
       "      <td>SENIOR ANALYST AND PROJECT MANAGER</td>\n",
       "    </tr>\n",
       "    <tr>\n",
       "      <th>22</th>\n",
       "      <td>Baker, Sarah E.</td>\n",
       "      <td>Employee</td>\n",
       "      <td>131805</td>\n",
       "      <td>Per Annum</td>\n",
       "      <td>SPECIAL ASSISTANT TO THE PRESIDENT AND ASSOCIA...</td>\n",
       "    </tr>\n",
       "    <tr>\n",
       "      <th>23</th>\n",
       "      <td>Bansal, Gaurab</td>\n",
       "      <td>Employee</td>\n",
       "      <td>120000</td>\n",
       "      <td>Per Annum</td>\n",
       "      <td>DEPUTY ASSISTANT TO THE PRESIDENT AND DEPUTY C...</td>\n",
       "    </tr>\n",
       "    <tr>\n",
       "      <th>24</th>\n",
       "      <td>Barnes, Desiree N.</td>\n",
       "      <td>Employee</td>\n",
       "      <td>42844</td>\n",
       "      <td>Per Annum</td>\n",
       "      <td>PRESS ASSISTANT</td>\n",
       "    </tr>\n",
       "    <tr>\n",
       "      <th>25</th>\n",
       "      <td>Bartoloni, Kristen A.</td>\n",
       "      <td>Employee</td>\n",
       "      <td>70000</td>\n",
       "      <td>Per Annum</td>\n",
       "      <td>DEPUTY DIRECTOR OF RESEARCH</td>\n",
       "    </tr>\n",
       "    <tr>\n",
       "      <th>26</th>\n",
       "      <td>Beckford, Kevin F.</td>\n",
       "      <td>Employee</td>\n",
       "      <td>42000</td>\n",
       "      <td>Per Annum</td>\n",
       "      <td>ANALYST</td>\n",
       "    </tr>\n",
       "    <tr>\n",
       "      <th>27</th>\n",
       "      <td>Beliveau, Emmett S.</td>\n",
       "      <td>Employee</td>\n",
       "      <td>160085</td>\n",
       "      <td>Per Annum</td>\n",
       "      <td>ASSISTANT TO THE PRESIDENT AND DIRECTOR OF THE...</td>\n",
       "    </tr>\n",
       "    <tr>\n",
       "      <th>28</th>\n",
       "      <td>Benenati, Frank J.</td>\n",
       "      <td>Employee</td>\n",
       "      <td>84840</td>\n",
       "      <td>Per Annum</td>\n",
       "      <td>ASSISTANT PRESS SECRETARY</td>\n",
       "    </tr>\n",
       "    <tr>\n",
       "      <th>29</th>\n",
       "      <td>Bennett, Tabitha R.</td>\n",
       "      <td>Employee</td>\n",
       "      <td>50000</td>\n",
       "      <td>Per Annum</td>\n",
       "      <td>PRESS LEAD</td>\n",
       "    </tr>\n",
       "    <tr>\n",
       "      <th>...</th>\n",
       "      <td>...</td>\n",
       "      <td>...</td>\n",
       "      <td>...</td>\n",
       "      <td>...</td>\n",
       "      <td>...</td>\n",
       "    </tr>\n",
       "    <tr>\n",
       "      <th>444</th>\n",
       "      <td>Vignarajah, Krishanti</td>\n",
       "      <td>Employee</td>\n",
       "      <td>90000</td>\n",
       "      <td>Per Annum</td>\n",
       "      <td>DIRECTOR OF INTERNATIONAL AFFAIRS AND SENIOR P...</td>\n",
       "    </tr>\n",
       "    <tr>\n",
       "      <th>445</th>\n",
       "      <td>Vilfer, Ryan E.</td>\n",
       "      <td>Employee</td>\n",
       "      <td>42420</td>\n",
       "      <td>Per Annum</td>\n",
       "      <td>STAFF ASSISTANT</td>\n",
       "    </tr>\n",
       "    <tr>\n",
       "      <th>446</th>\n",
       "      <td>Vorhaus, David A.</td>\n",
       "      <td>Employee</td>\n",
       "      <td>111100</td>\n",
       "      <td>Per Annum</td>\n",
       "      <td>SPECIAL ASSISTANT TO THE PRESIDENT AND ADVISOR...</td>\n",
       "    </tr>\n",
       "    <tr>\n",
       "      <th>447</th>\n",
       "      <td>Vrazilek, Lauren S.</td>\n",
       "      <td>Employee</td>\n",
       "      <td>55000</td>\n",
       "      <td>Per Annum</td>\n",
       "      <td>DEPUTY PRESS SECRETARY FOR THE FIRST LADY</td>\n",
       "    </tr>\n",
       "    <tr>\n",
       "      <th>448</th>\n",
       "      <td>Wagstaff, Jesica E.</td>\n",
       "      <td>Employee</td>\n",
       "      <td>45905</td>\n",
       "      <td>Per Annum</td>\n",
       "      <td>LEGISLATIVE ASSISTANT AND ASSISTANT TO THE SEN...</td>\n",
       "    </tr>\n",
       "    <tr>\n",
       "      <th>449</th>\n",
       "      <td>Waheed, Manar</td>\n",
       "      <td>Employee</td>\n",
       "      <td>80800</td>\n",
       "      <td>Per Annum</td>\n",
       "      <td>DEPUTY POLICY DIRECTOR FOR IMMIGRATION</td>\n",
       "    </tr>\n",
       "    <tr>\n",
       "      <th>450</th>\n",
       "      <td>Wainscott, Kip F.</td>\n",
       "      <td>Detailee</td>\n",
       "      <td>134662</td>\n",
       "      <td>Per Annum</td>\n",
       "      <td>SENIOR DIRECTOR OF CABINET AFFAIRS</td>\n",
       "    </tr>\n",
       "    <tr>\n",
       "      <th>451</th>\n",
       "      <td>Waldo, Katherine A.</td>\n",
       "      <td>Employee</td>\n",
       "      <td>47470</td>\n",
       "      <td>Per Annum</td>\n",
       "      <td>TRIP COORDINATOR</td>\n",
       "    </tr>\n",
       "    <tr>\n",
       "      <th>452</th>\n",
       "      <td>Wall, Alexander B.</td>\n",
       "      <td>Employee</td>\n",
       "      <td>63125</td>\n",
       "      <td>Per Annum</td>\n",
       "      <td>DEPUTY DIRECTOR OF ONLINE ENGAGEMENT</td>\n",
       "    </tr>\n",
       "    <tr>\n",
       "      <th>453</th>\n",
       "      <td>Walsh, James D.</td>\n",
       "      <td>Detailee</td>\n",
       "      <td>171871</td>\n",
       "      <td>Per Annum</td>\n",
       "      <td>ASSOCIATE COUNSEL</td>\n",
       "    </tr>\n",
       "    <tr>\n",
       "      <th>454</th>\n",
       "      <td>Walsh, Joan L.</td>\n",
       "      <td>Employee</td>\n",
       "      <td>160085</td>\n",
       "      <td>Per Annum</td>\n",
       "      <td>DEPUTY ASSISTANT TO THE PRESIDENT AND STAFF SE...</td>\n",
       "    </tr>\n",
       "    <tr>\n",
       "      <th>455</th>\n",
       "      <td>Wang, Ya W.</td>\n",
       "      <td>Employee</td>\n",
       "      <td>85000</td>\n",
       "      <td>Per Annum</td>\n",
       "      <td>SPECIAL ASSISTANT AND ADVISOR TO THE CHIEF OF ...</td>\n",
       "    </tr>\n",
       "    <tr>\n",
       "      <th>456</th>\n",
       "      <td>Whisenant, Addie M.</td>\n",
       "      <td>Employee</td>\n",
       "      <td>78780</td>\n",
       "      <td>Per Annum</td>\n",
       "      <td>DIRECTOR OF AFRICAN-AMERICAN MEDIA</td>\n",
       "    </tr>\n",
       "    <tr>\n",
       "      <th>457</th>\n",
       "      <td>Wild, Clayton S.</td>\n",
       "      <td>Employee</td>\n",
       "      <td>44000</td>\n",
       "      <td>Per Annum</td>\n",
       "      <td>PRESIDENTIAL WRITER</td>\n",
       "    </tr>\n",
       "    <tr>\n",
       "      <th>458</th>\n",
       "      <td>Wilkinson, Jr., David E.</td>\n",
       "      <td>Employee</td>\n",
       "      <td>100000</td>\n",
       "      <td>Per Annum</td>\n",
       "      <td>DIRECTOR, OFFICE OF SOCIAL INNOVATION AND CIVI...</td>\n",
       "    </tr>\n",
       "    <tr>\n",
       "      <th>459</th>\n",
       "      <td>Williams, Sherman A.</td>\n",
       "      <td>Employee</td>\n",
       "      <td>80716</td>\n",
       "      <td>Per Annum</td>\n",
       "      <td>ASSISTANT TO THE EXECUTIVE CLERK</td>\n",
       "    </tr>\n",
       "    <tr>\n",
       "      <th>460</th>\n",
       "      <td>Winter, Melissa E.</td>\n",
       "      <td>Employee</td>\n",
       "      <td>133320</td>\n",
       "      <td>Per Annum</td>\n",
       "      <td>DEPUTY ASSISTANT TO THE PRESIDENT AND SENIOR A...</td>\n",
       "    </tr>\n",
       "    <tr>\n",
       "      <th>461</th>\n",
       "      <td>Wong, Jacqueline</td>\n",
       "      <td>Employee</td>\n",
       "      <td>58075</td>\n",
       "      <td>Per Annum</td>\n",
       "      <td>SENIOR POLICY ANALYST</td>\n",
       "    </tr>\n",
       "    <tr>\n",
       "      <th>462</th>\n",
       "      <td>Wright, Frank B.</td>\n",
       "      <td>Employee</td>\n",
       "      <td>65000</td>\n",
       "      <td>Per Annum</td>\n",
       "      <td>DEPUTY DIRECTOR FOR FINANCE</td>\n",
       "    </tr>\n",
       "    <tr>\n",
       "      <th>463</th>\n",
       "      <td>Wu, Alexander P.</td>\n",
       "      <td>Employee</td>\n",
       "      <td>52520</td>\n",
       "      <td>Per Annum</td>\n",
       "      <td>ASSOCIATE DIRECTOR FOR THE MANAGEMENT AND ADMI...</td>\n",
       "    </tr>\n",
       "    <tr>\n",
       "      <th>464</th>\n",
       "      <td>Xharda, Klevis</td>\n",
       "      <td>Employee</td>\n",
       "      <td>42420</td>\n",
       "      <td>Per Annum</td>\n",
       "      <td>EXECUTIVE ASSISTANT</td>\n",
       "    </tr>\n",
       "    <tr>\n",
       "      <th>465</th>\n",
       "      <td>Yaros, Stephen G.</td>\n",
       "      <td>Employee</td>\n",
       "      <td>42000</td>\n",
       "      <td>Per Annum</td>\n",
       "      <td>STAFF ASSISTANT</td>\n",
       "    </tr>\n",
       "    <tr>\n",
       "      <th>466</th>\n",
       "      <td>Young, Caitlin E.</td>\n",
       "      <td>Employee</td>\n",
       "      <td>63630</td>\n",
       "      <td>Per Annum</td>\n",
       "      <td>STENOGRAPHER</td>\n",
       "    </tr>\n",
       "    <tr>\n",
       "      <th>467</th>\n",
       "      <td>Young, Jr., Reginald D.</td>\n",
       "      <td>Employee</td>\n",
       "      <td>69597</td>\n",
       "      <td>Per Annum</td>\n",
       "      <td>SENIOR MANAGEMENT ANALYST</td>\n",
       "    </tr>\n",
       "    <tr>\n",
       "      <th>468</th>\n",
       "      <td>Young, Kimberly E.</td>\n",
       "      <td>Employee</td>\n",
       "      <td>45000</td>\n",
       "      <td>Per Annum</td>\n",
       "      <td>LEGISLATIVE ASSISTANT</td>\n",
       "    </tr>\n",
       "    <tr>\n",
       "      <th>469</th>\n",
       "      <td>Young, Stephanie L.</td>\n",
       "      <td>Employee</td>\n",
       "      <td>87870</td>\n",
       "      <td>Per Annum</td>\n",
       "      <td>ASSOCIATE COMMUNICATIONS DIRECTOR</td>\n",
       "    </tr>\n",
       "    <tr>\n",
       "      <th>470</th>\n",
       "      <td>Young, Valerie A.</td>\n",
       "      <td>Employee</td>\n",
       "      <td>52667</td>\n",
       "      <td>Per Annum</td>\n",
       "      <td>RECORDS MANAGEMENT ANALYST</td>\n",
       "    </tr>\n",
       "    <tr>\n",
       "      <th>471</th>\n",
       "      <td>Yudelson, Alex R.</td>\n",
       "      <td>Employee</td>\n",
       "      <td>42000</td>\n",
       "      <td>Per Annum</td>\n",
       "      <td>STAFF ASSISTANT</td>\n",
       "    </tr>\n",
       "    <tr>\n",
       "      <th>472</th>\n",
       "      <td>Zaid, Zaid A.</td>\n",
       "      <td>Detailee</td>\n",
       "      <td>158700</td>\n",
       "      <td>Per Annum</td>\n",
       "      <td>ASSOCIATE COUNSEL</td>\n",
       "    </tr>\n",
       "    <tr>\n",
       "      <th>473</th>\n",
       "      <td>Zients, Jeffrey D.</td>\n",
       "      <td>Employee</td>\n",
       "      <td>173922</td>\n",
       "      <td>Per Annum</td>\n",
       "      <td>ASSISTANT TO THE PRESIDENT FOR ECONOMIC POLICY...</td>\n",
       "    </tr>\n",
       "  </tbody>\n",
       "</table>\n",
       "<p>474 rows × 5 columns</p>\n",
       "</div>"
      ],
      "text/plain": [
       "                         Name    Status  Salary  Pay Basis  \\\n",
       "0          Abdullah, Hasan A.  Detailee  105960  Per Annum   \n",
       "1           Abraham, Sabey M.  Employee   55000  Per Annum   \n",
       "2        Abraham, Yohannes A.  Employee  121200  Per Annum   \n",
       "3          Abramson, Jerry E.  Employee  155035  Per Annum   \n",
       "4          Adler, Caroline E.  Employee  114000  Per Annum   \n",
       "5            Aiyer, Vikrum D.  Detailee  134662  Per Annum   \n",
       "6           Alcantara, Elias   Employee   65650  Per Annum   \n",
       "7            Ali, Mohammed I.  Employee   42000  Per Annum   \n",
       "8          Allen, Angelica P.  Employee   50000  Per Annum   \n",
       "9         Allen, Elizabeth M.  Employee  103000  Per Annum   \n",
       "10          Allen, Jessica L.  Employee   42844  Per Annum   \n",
       "11         Allison, Ashley R.  Employee   97000  Per Annum   \n",
       "12     Amendolare, Vincent C.  Employee   42420  Per Annum   \n",
       "13            Amuluru, Uma M.  Detailee  116804  Per Annum   \n",
       "14        Anderson, Amanda D.  Employee  126250  Per Annum   \n",
       "15       Anderson, Charles D.  Employee  101000  Per Annum   \n",
       "16      Aniskoff, Paulette L.  Employee  155035  Per Annum   \n",
       "17       Ashton, Nathaniel R.  Employee   42000  Per Annum   \n",
       "18        Austin, Jr., Roy L.  Employee  160085  Per Annum   \n",
       "19         Axios, Ashleigh T.  Employee   73225  Per Annum   \n",
       "20      Babajide, Ayotunde T.  Detailee  114480  Per Annum   \n",
       "21                 Bae, Yena   Employee   44000  Per Annum   \n",
       "22            Baker, Sarah E.  Employee  131805  Per Annum   \n",
       "23            Bansal, Gaurab   Employee  120000  Per Annum   \n",
       "24         Barnes, Desiree N.  Employee   42844  Per Annum   \n",
       "25      Bartoloni, Kristen A.  Employee   70000  Per Annum   \n",
       "26         Beckford, Kevin F.  Employee   42000  Per Annum   \n",
       "27        Beliveau, Emmett S.  Employee  160085  Per Annum   \n",
       "28         Benenati, Frank J.  Employee   84840  Per Annum   \n",
       "29        Bennett, Tabitha R.  Employee   50000  Per Annum   \n",
       "..                        ...       ...     ...        ...   \n",
       "444    Vignarajah, Krishanti   Employee   90000  Per Annum   \n",
       "445           Vilfer, Ryan E.  Employee   42420  Per Annum   \n",
       "446         Vorhaus, David A.  Employee  111100  Per Annum   \n",
       "447       Vrazilek, Lauren S.  Employee   55000  Per Annum   \n",
       "448       Wagstaff, Jesica E.  Employee   45905  Per Annum   \n",
       "449            Waheed, Manar   Employee   80800  Per Annum   \n",
       "450         Wainscott, Kip F.  Detailee  134662  Per Annum   \n",
       "451       Waldo, Katherine A.  Employee   47470  Per Annum   \n",
       "452        Wall, Alexander B.  Employee   63125  Per Annum   \n",
       "453           Walsh, James D.  Detailee  171871  Per Annum   \n",
       "454            Walsh, Joan L.  Employee  160085  Per Annum   \n",
       "455               Wang, Ya W.  Employee   85000  Per Annum   \n",
       "456       Whisenant, Addie M.  Employee   78780  Per Annum   \n",
       "457          Wild, Clayton S.  Employee   44000  Per Annum   \n",
       "458  Wilkinson, Jr., David E.  Employee  100000  Per Annum   \n",
       "459      Williams, Sherman A.  Employee   80716  Per Annum   \n",
       "460        Winter, Melissa E.  Employee  133320  Per Annum   \n",
       "461         Wong, Jacqueline   Employee   58075  Per Annum   \n",
       "462          Wright, Frank B.  Employee   65000  Per Annum   \n",
       "463          Wu, Alexander P.  Employee   52520  Per Annum   \n",
       "464           Xharda, Klevis   Employee   42420  Per Annum   \n",
       "465         Yaros, Stephen G.  Employee   42000  Per Annum   \n",
       "466         Young, Caitlin E.  Employee   63630  Per Annum   \n",
       "467   Young, Jr., Reginald D.  Employee   69597  Per Annum   \n",
       "468        Young, Kimberly E.  Employee   45000  Per Annum   \n",
       "469       Young, Stephanie L.  Employee   87870  Per Annum   \n",
       "470         Young, Valerie A.  Employee   52667  Per Annum   \n",
       "471         Yudelson, Alex R.  Employee   42000  Per Annum   \n",
       "472             Zaid, Zaid A.  Detailee  158700  Per Annum   \n",
       "473        Zients, Jeffrey D.  Employee  173922  Per Annum   \n",
       "\n",
       "                                        Position Title  \n",
       "0                                       POLICY ADVISOR  \n",
       "1    ENERGY AND ENVIRONMENT DIRECTOR FOR PRESIDENTI...  \n",
       "2    SPECIAL ASSISTANT TO THE PRESIDENT AND CHIEF O...  \n",
       "3    DEPUTY ASSISTANT TO THE PRESIDENT AND DIRECTOR...  \n",
       "4    SPECIAL ASSISTANT TO THE PRESIDENT AND DIRECTO...  \n",
       "5                                SENIOR POLICY ADVISOR  \n",
       "6      ASSOCIATE DIRECTOR OF INTERGOVERNMENTAL AFFAIRS  \n",
       "7                                      STAFF ASSISTANT  \n",
       "8    SPECIAL ASSISTANT TO THE DIRECTOR OF THE OFFIC...  \n",
       "9    SPECIAL ASSISTANT TO THE PRESIDENT FOR MESSAGE...  \n",
       "10                                     PRESS ASSISTANT  \n",
       "11                DEPUTY DIRECTOR OF PUBLIC ENGAGEMENT  \n",
       "12                                             ANALYST  \n",
       "13                                   ASSOCIATE COUNSEL  \n",
       "14   SPECIAL ASSISTANT TO THE PRESIDENT AND HOUSE L...  \n",
       "15    SENIOR ADVISOR FOR THE NATIONAL ECONOMIC COUNCIL  \n",
       "16   DEPUTY ASSISTANT TO THE PRESIDENT AND DIRECTOR...  \n",
       "17                                     STAFF ASSISTANT  \n",
       "18   DEPUTY ASSISTANT TO THE PRESIDENT FOR THE OFFI...  \n",
       "19                           DIGITAL CREATIVE DIRECTOR  \n",
       "20                               SENIOR POLICY ADVISOR  \n",
       "21                  SENIOR ANALYST AND PROJECT MANAGER  \n",
       "22   SPECIAL ASSISTANT TO THE PRESIDENT AND ASSOCIA...  \n",
       "23   DEPUTY ASSISTANT TO THE PRESIDENT AND DEPUTY C...  \n",
       "24                                     PRESS ASSISTANT  \n",
       "25                         DEPUTY DIRECTOR OF RESEARCH  \n",
       "26                                             ANALYST  \n",
       "27   ASSISTANT TO THE PRESIDENT AND DIRECTOR OF THE...  \n",
       "28                           ASSISTANT PRESS SECRETARY  \n",
       "29                                          PRESS LEAD  \n",
       "..                                                 ...  \n",
       "444  DIRECTOR OF INTERNATIONAL AFFAIRS AND SENIOR P...  \n",
       "445                                    STAFF ASSISTANT  \n",
       "446  SPECIAL ASSISTANT TO THE PRESIDENT AND ADVISOR...  \n",
       "447          DEPUTY PRESS SECRETARY FOR THE FIRST LADY  \n",
       "448  LEGISLATIVE ASSISTANT AND ASSISTANT TO THE SEN...  \n",
       "449             DEPUTY POLICY DIRECTOR FOR IMMIGRATION  \n",
       "450                 SENIOR DIRECTOR OF CABINET AFFAIRS  \n",
       "451                                   TRIP COORDINATOR  \n",
       "452               DEPUTY DIRECTOR OF ONLINE ENGAGEMENT  \n",
       "453                                  ASSOCIATE COUNSEL  \n",
       "454  DEPUTY ASSISTANT TO THE PRESIDENT AND STAFF SE...  \n",
       "455  SPECIAL ASSISTANT AND ADVISOR TO THE CHIEF OF ...  \n",
       "456                 DIRECTOR OF AFRICAN-AMERICAN MEDIA  \n",
       "457                                PRESIDENTIAL WRITER  \n",
       "458  DIRECTOR, OFFICE OF SOCIAL INNOVATION AND CIVI...  \n",
       "459                   ASSISTANT TO THE EXECUTIVE CLERK  \n",
       "460  DEPUTY ASSISTANT TO THE PRESIDENT AND SENIOR A...  \n",
       "461                              SENIOR POLICY ANALYST  \n",
       "462                        DEPUTY DIRECTOR FOR FINANCE  \n",
       "463  ASSOCIATE DIRECTOR FOR THE MANAGEMENT AND ADMI...  \n",
       "464                                EXECUTIVE ASSISTANT  \n",
       "465                                    STAFF ASSISTANT  \n",
       "466                                       STENOGRAPHER  \n",
       "467                          SENIOR MANAGEMENT ANALYST  \n",
       "468                              LEGISLATIVE ASSISTANT  \n",
       "469                  ASSOCIATE COMMUNICATIONS DIRECTOR  \n",
       "470                         RECORDS MANAGEMENT ANALYST  \n",
       "471                                    STAFF ASSISTANT  \n",
       "472                                  ASSOCIATE COUNSEL  \n",
       "473  ASSISTANT TO THE PRESIDENT FOR ECONOMIC POLICY...  \n",
       "\n",
       "[474 rows x 5 columns]"
      ]
     },
     "execution_count": 43,
     "metadata": {},
     "output_type": "execute_result"
    }
   ],
   "source": [
    "# Print the whole Dataframe\n",
    "white_house"
   ]
  },
  {
   "cell_type": "markdown",
   "metadata": {},
   "source": [
    "## Visualization"
   ]
  },
  {
   "cell_type": "markdown",
   "metadata": {},
   "source": [
    "An histogram to look at the distribution."
   ]
  },
  {
   "cell_type": "code",
   "execution_count": 44,
   "metadata": {
    "collapsed": false,
    "scrolled": false
   },
   "outputs": [
    {
     "data": {
      "image/png": "[encoded data removed]",
      "text/plain": [
       "<matplotlib.figure.Figure at 0x7f2a5fa00f28>"
      ]
     },
     "metadata": {},
     "output_type": "display_data"
    }
   ],
   "source": [
    "import matplotlib.pyplot as plt\n",
    "%matplotlib inline\n",
    "plt.style.use('fivethirtyeight')\n",
    "\n",
    "plt.figure(figsize=(8,6))\n",
    "plt.title('Salary Distribution At The White House')\n",
    "plt.xlabel('Salary Range (Increments of 20k)')\n",
    "plt.ylabel('Number of People')\n",
    "plt.hist(white_house[\"Salary\"])\n",
    "\n",
    "plt.show()"
   ]
  },
  {
   "cell_type": "markdown",
   "metadata": {},
   "source": [
    "## Extra Exploration"
   ]
  },
  {
   "cell_type": "markdown",
   "metadata": {},
   "source": [
    "Additonal questions about the dataset."
   ]
  },
  {
   "cell_type": "markdown",
   "metadata": {},
   "source": [
    "### Total Salary"
   ]
  },
  {
   "cell_type": "markdown",
   "metadata": {},
   "source": [
    "How much does the White House pay in total salary? "
   ]
  },
  {
   "cell_type": "code",
   "execution_count": 53,
   "metadata": {
    "collapsed": false
   },
   "outputs": [
    {
     "name": "stdout",
     "output_type": "stream",
     "text": [
      "40225595\n"
     ]
    }
   ],
   "source": [
    "total_salary = white_house[\"Salary\"].sum()\n",
    "print(total_salary)"
   ]
  },
  {
   "cell_type": "markdown",
   "metadata": {},
   "source": [
    "The White House paid $40,225,595.00 in payroll in 2015. "
   ]
  },
  {
   "cell_type": "markdown",
   "metadata": {},
   "source": [
    "Who are the highest and lowest paid staffers?"
   ]
  },
  {
   "cell_type": "code",
   "execution_count": 54,
   "metadata": {
    "collapsed": false
   },
   "outputs": [
    {
     "name": "stdout",
     "output_type": "stream",
     "text": [
      "173922\n"
     ]
    }
   ],
   "source": [
    "max_salary = white_house[\"Salary\"].max()\n",
    "print(max_salary)"
   ]
  },
  {
   "cell_type": "code",
   "execution_count": 55,
   "metadata": {
    "collapsed": false
   },
   "outputs": [
    {
     "name": "stdout",
     "output_type": "stream",
     "text": [
      "0\n"
     ]
    }
   ],
   "source": [
    "min_salary = white_house[\"Salary\"].min()\n",
    "print(min_salary)"
   ]
  },
  {
   "cell_type": "markdown",
   "metadata": {},
   "source": [
    "## Correlation"
   ]
  },
  {
   "cell_type": "markdown",
   "metadata": {},
   "source": [
    "How does length of employee titles correlate to salary?"
   ]
  },
  {
   "cell_type": "code",
   "execution_count": 59,
   "metadata": {
    "collapsed": false
   },
   "outputs": [
    {
     "data": {
      "text/html": [
       "<div>\n",
       "<table border=\"1\" class=\"dataframe\">\n",
       "  <thead>\n",
       "    <tr style=\"text-align: right;\">\n",
       "      <th></th>\n",
       "      <th>Name</th>\n",
       "      <th>Status</th>\n",
       "      <th>Salary</th>\n",
       "      <th>Pay Basis</th>\n",
       "      <th>Position Title</th>\n",
       "      <th>Length Position Title</th>\n",
       "    </tr>\n",
       "  </thead>\n",
       "  <tbody>\n",
       "    <tr>\n",
       "      <th>0</th>\n",
       "      <td>Abdullah, Hasan A.</td>\n",
       "      <td>Detailee</td>\n",
       "      <td>105960</td>\n",
       "      <td>Per Annum</td>\n",
       "      <td>POLICY ADVISOR</td>\n",
       "      <td>14</td>\n",
       "    </tr>\n",
       "    <tr>\n",
       "      <th>1</th>\n",
       "      <td>Abraham, Sabey M.</td>\n",
       "      <td>Employee</td>\n",
       "      <td>55000</td>\n",
       "      <td>Per Annum</td>\n",
       "      <td>ENERGY AND ENVIRONMENT DIRECTOR FOR PRESIDENTI...</td>\n",
       "      <td>58</td>\n",
       "    </tr>\n",
       "    <tr>\n",
       "      <th>2</th>\n",
       "      <td>Abraham, Yohannes A.</td>\n",
       "      <td>Employee</td>\n",
       "      <td>121200</td>\n",
       "      <td>Per Annum</td>\n",
       "      <td>SPECIAL ASSISTANT TO THE PRESIDENT AND CHIEF O...</td>\n",
       "      <td>119</td>\n",
       "    </tr>\n",
       "    <tr>\n",
       "      <th>3</th>\n",
       "      <td>Abramson, Jerry E.</td>\n",
       "      <td>Employee</td>\n",
       "      <td>155035</td>\n",
       "      <td>Per Annum</td>\n",
       "      <td>DEPUTY ASSISTANT TO THE PRESIDENT AND DIRECTOR...</td>\n",
       "      <td>75</td>\n",
       "    </tr>\n",
       "    <tr>\n",
       "      <th>4</th>\n",
       "      <td>Adler, Caroline E.</td>\n",
       "      <td>Employee</td>\n",
       "      <td>114000</td>\n",
       "      <td>Per Annum</td>\n",
       "      <td>SPECIAL ASSISTANT TO THE PRESIDENT AND DIRECTO...</td>\n",
       "      <td>84</td>\n",
       "    </tr>\n",
       "  </tbody>\n",
       "</table>\n",
       "</div>"
      ],
      "text/plain": [
       "                   Name    Status  Salary  Pay Basis  \\\n",
       "0    Abdullah, Hasan A.  Detailee  105960  Per Annum   \n",
       "1     Abraham, Sabey M.  Employee   55000  Per Annum   \n",
       "2  Abraham, Yohannes A.  Employee  121200  Per Annum   \n",
       "3    Abramson, Jerry E.  Employee  155035  Per Annum   \n",
       "4    Adler, Caroline E.  Employee  114000  Per Annum   \n",
       "\n",
       "                                      Position Title  Length Position Title  \n",
       "0                                     POLICY ADVISOR                     14  \n",
       "1  ENERGY AND ENVIRONMENT DIRECTOR FOR PRESIDENTI...                     58  \n",
       "2  SPECIAL ASSISTANT TO THE PRESIDENT AND CHIEF O...                    119  \n",
       "3  DEPUTY ASSISTANT TO THE PRESIDENT AND DIRECTOR...                     75  \n",
       "4  SPECIAL ASSISTANT TO THE PRESIDENT AND DIRECTO...                     84  "
      ]
     },
     "execution_count": 59,
     "metadata": {},
     "output_type": "execute_result"
    }
   ],
   "source": [
    "white_house['Length Position Title'] = white_house[\"Position Title\"].str.len()\n",
    "white_house.head()"
   ]
  },
  {
   "cell_type": "code",
   "execution_count": 60,
   "metadata": {
    "collapsed": false
   },
   "outputs": [
    {
     "data": {
      "text/plain": [
       "<matplotlib.axes._subplots.AxesSubplot at 0x7f2a5f6f8748>"
      ]
     },
     "execution_count": 60,
     "metadata": {},
     "output_type": "execute_result"
    },
    {
     "data": {
      "image/png": "[encoded data removed]",
      "text/plain": [
       "<matplotlib.figure.Figure at 0x7f2a5dddb208>"
      ]
     },
     "metadata": {},
     "output_type": "display_data"
    }
   ],
   "source": [
    "# Correlation\n",
    "white_house.plot.scatter(x='Salary', y='Length Position Title', figsize = (12, 8), s = 60, color ='green', \n",
    "                         title = 'Exploration of Potential Correlation')"
   ]
  },
  {
   "cell_type": "code",
   "execution_count": null,
   "metadata": {
    "collapsed": true
   },
   "outputs": [],
   "source": []
  }
 ],
 "metadata": {
  "kernelspec": {
   "display_name": "Python [Root]",
   "language": "python",
   "name": "Python [Root]"
  },
  "language_info": {
   "codemirror_mode": {
    "name": "ipython",
    "version": 3
   },
   "file_extension": ".py",
   "mimetype": "text/x-python",
   "name": "python",
   "nbconvert_exporter": "python",
   "pygments_lexer": "ipython3",
   "version": "3.5.2"
  }
 },
 "nbformat": 4,
 "nbformat_minor": 0
}
